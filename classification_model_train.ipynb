{
 "cells": [
  {
   "cell_type": "markdown",
   "metadata": {
    "id": "_a-_Ju_LQ-GT"
   },
   "source": [
    "# Librerie"
   ]
  },
  {
   "cell_type": "code",
   "execution_count": 1,
   "metadata": {
    "colab": {
     "base_uri": "https://localhost:8080/"
    },
    "id": "bjM4mG-HUDqb",
    "outputId": "263c820f-c59e-4783-e56d-429dcd74a24c"
   },
   "outputs": [
    {
     "name": "stdout",
     "output_type": "stream",
     "text": [
      "Requirement already satisfied: pydicom in /Users/nicolalorenzon/miniconda3/lib/python3.10/site-packages (2.3.1)\n",
      "zsh:1: 1.2.0 not found\n",
      "zsh:1: 1.2.0. not found\n",
      "Requirement already satisfied: xlrd in /Users/nicolalorenzon/miniconda3/lib/python3.10/site-packages (2.0.1)\n"
     ]
    }
   ],
   "source": [
    "# installo le librerie\n",
    "!pip install pydicom\n",
    "!pip install pandas>=1.2.0\n",
    "!pip install xlrd>=1.2.0.\n",
    "!pip install --upgrade xlrd\n",
    "!pip install sklearn"
   ]
  },
  {
   "cell_type": "code",
   "execution_count": 3,
   "metadata": {
    "id": "naXVMXnoQ-GV"
   },
   "outputs": [
    {
     "ename": "ModuleNotFoundError",
     "evalue": "No module named 'cv2'",
     "output_type": "error",
     "traceback": [
      "\u001b[0;31m---------------------------------------------------------------------------\u001b[0m",
      "\u001b[0;31mModuleNotFoundError\u001b[0m                       Traceback (most recent call last)",
      "Cell \u001b[0;32mIn[3], line 14\u001b[0m\n\u001b[1;32m     12\u001b[0m \u001b[38;5;28;01mimport\u001b[39;00m \u001b[38;5;21;01mgc\u001b[39;00m   \u001b[38;5;66;03m# garbage collector for memory management if needed\u001b[39;00m\n\u001b[1;32m     13\u001b[0m \u001b[38;5;28;01mimport\u001b[39;00m \u001b[38;5;21;01mcopy\u001b[39;00m \u001b[38;5;66;03m# copy of dbs\u001b[39;00m\n\u001b[0;32m---> 14\u001b[0m \u001b[38;5;28;01mimport\u001b[39;00m \u001b[38;5;21;01mcv2\u001b[39;00m  \u001b[38;5;66;03m# opencv\u001b[39;00m\n\u001b[1;32m     15\u001b[0m \u001b[38;5;28;01mimport\u001b[39;00m \u001b[38;5;21;01mpydicom\u001b[39;00m  \u001b[38;5;66;03m# pydicom library for dicom file import\u001b[39;00m\n\u001b[1;32m     18\u001b[0m \u001b[38;5;28;01mimport\u001b[39;00m \u001b[38;5;21;01mtensorflow\u001b[39;00m \u001b[38;5;28;01mas\u001b[39;00m \u001b[38;5;21;01mtf\u001b[39;00m \u001b[38;5;66;03m# tensorflow\u001b[39;00m\n",
      "\u001b[0;31mModuleNotFoundError\u001b[0m: No module named 'cv2'"
     ]
    }
   ],
   "source": [
    "# importo le librerie\n",
    "import sys  # system for info\n",
    "import pandas as pd # pandas\n",
    "import numpy as np  # numpy\n",
    "from PIL import Image\n",
    "\n",
    "#from sklearn.model_selection import train_test_split    # split db in train and validation\n",
    "import os   # os for paths and dirs\n",
    "\n",
    "from tqdm import tqdm   #tqdm for loading bars\n",
    "\n",
    "import gc   # garbage collector for memory management if needed\n",
    "import copy # copy of dbs\n",
    "import cv2  # opencv\n",
    "import pydicom  # pydicom library for dicom file import\n",
    "\n",
    "\n",
    "import tensorflow as tf # tensorflow\n",
    "from tensorflow import keras    # keras\n",
    "from pathlib import Path    #path library for paths management"
   ]
  },
  {
   "cell_type": "code",
   "execution_count": 6,
   "metadata": {
    "id": "cbVYzY_zQ-GW"
   },
   "outputs": [
    {
     "ename": "ModuleNotFoundError",
     "evalue": "No module named 'tensorflow'",
     "output_type": "error",
     "traceback": [
      "\u001b[0;31m---------------------------------------------------------------------------\u001b[0m",
      "\u001b[0;31mModuleNotFoundError\u001b[0m                       Traceback (most recent call last)",
      "Cell \u001b[0;32mIn[6], line 2\u001b[0m\n\u001b[1;32m      1\u001b[0m \u001b[38;5;66;03m# import dei layer per la creazione del modello\u001b[39;00m\n\u001b[0;32m----> 2\u001b[0m \u001b[38;5;28;01mfrom\u001b[39;00m \u001b[38;5;21;01mtensorflow\u001b[39;00m\u001b[38;5;21;01m.\u001b[39;00m\u001b[38;5;21;01mkeras\u001b[39;00m\u001b[38;5;21;01m.\u001b[39;00m\u001b[38;5;21;01mapplications\u001b[39;00m\u001b[38;5;21;01m.\u001b[39;00m\u001b[38;5;21;01mresnet50\u001b[39;00m \u001b[38;5;28;01mimport\u001b[39;00m ResNet50\n\u001b[1;32m      3\u001b[0m \u001b[38;5;28;01mfrom\u001b[39;00m \u001b[38;5;21;01mtensorflow\u001b[39;00m\u001b[38;5;21;01m.\u001b[39;00m\u001b[38;5;21;01mkeras\u001b[39;00m\u001b[38;5;21;01m.\u001b[39;00m\u001b[38;5;21;01mapplications\u001b[39;00m\u001b[38;5;21;01m.\u001b[39;00m\u001b[38;5;21;01mdensenet\u001b[39;00m \u001b[38;5;28;01mimport\u001b[39;00m DenseNet121\n\u001b[1;32m      4\u001b[0m \u001b[38;5;28;01mfrom\u001b[39;00m \u001b[38;5;21;01mtensorflow\u001b[39;00m\u001b[38;5;21;01m.\u001b[39;00m\u001b[38;5;21;01mkeras\u001b[39;00m\u001b[38;5;21;01m.\u001b[39;00m\u001b[38;5;21;01mapplications\u001b[39;00m\u001b[38;5;21;01m.\u001b[39;00m\u001b[38;5;21;01mvgg19\u001b[39;00m \u001b[38;5;28;01mimport\u001b[39;00m VGG19\n",
      "\u001b[0;31mModuleNotFoundError\u001b[0m: No module named 'tensorflow'"
     ]
    }
   ],
   "source": [
    "# import dei layer per la creazione del modello\n",
    "from tensorflow.keras.applications.resnet50 import ResNet50\n",
    "from tensorflow.keras.applications.densenet import DenseNet121\n",
    "from tensorflow.keras.applications.vgg19 import VGG19\n",
    "from tensorflow.keras.models import Model\n",
    "from tensorflow.keras.layers import Dense, AveragePooling2D, BatchNormalization, GlobalAveragePooling2D"
   ]
  },
  {
   "cell_type": "code",
   "execution_count": null,
   "metadata": {
    "id": "6rd1igWEQ-GX"
   },
   "outputs": [],
   "source": [
    "# funzioni per stampare il grafico del modello\n",
    "from tensorflow.keras.utils import plot_model, to_categorical   \n",
    "import plotly.graph_objects as go\n",
    "from plotly.offline import plot as plotly_plot\n",
    "import matplotlib.pyplot as plt\n",
    "from sklearn.metrics import precision_score, recall_score, accuracy_score, log_loss, confusion_matrix, hinge_loss"
   ]
  },
  {
   "cell_type": "markdown",
   "metadata": {
    "id": "g7OY6AEpQ-Ga"
   },
   "source": [
    "# UTILS"
   ]
  },
  {
   "cell_type": "markdown",
   "metadata": {
    "id": "dbrdZcP6Q-Gb"
   },
   "source": [
    "## UTILS PATHS"
   ]
  },
  {
   "cell_type": "code",
   "execution_count": null,
   "metadata": {
    "id": "xwGMk9KJQ-Gb"
   },
   "outputs": [],
   "source": [
    "# crea i path necessari\n",
    "checkpointPath = Path('Classification/OUTPUTS/CHECKPOINTS')    #checkpoint per l'accuracy\n",
    "graphPath = Path('Classification/OUTPUTS/GRAPHS/')  #graphs plots\n",
    "pathSavedModel = Path('Classification/OUTPUTS/MODELS-PB/')  #model saved\n",
    "plotpath = Path('Classification/OUTPUTS/PLTS/') #plots of history\n",
    "txtOutEvalpath = Path('Classification/OUTPUTS/EVALUATIONS/') #plots of history\n",
    "\n",
    "\n",
    "databasePath = Path('drive/MyDrive/Dataset/TrainSet (1)/')    # path of the xls with the Y\n",
    "databasePathIMAGES = Path('drive/MyDrive/Dataset/TrainSet (1)/TrainSet/') # path of the images png"
   ]
  },
  {
   "cell_type": "code",
   "execution_count": null,
   "metadata": {
    "id": "MHzFuxSkQ-Gb"
   },
   "outputs": [],
   "source": [
    "# controlla se i path esistono, altrimenti li crea\n",
    "checkpointPath.mkdir(parents=True, exist_ok=True)\n",
    "graphPath.mkdir(parents=True, exist_ok=True)\n",
    "pathSavedModel.mkdir(parents=True, exist_ok=True)\n",
    "plotpath.mkdir(parents=True, exist_ok=True)\n",
    "txtOutEvalpath.mkdir(parents=True, exist_ok=True)"
   ]
  },
  {
   "cell_type": "markdown",
   "metadata": {
    "id": "Xy5e1j3FQ-Gc"
   },
   "source": [
    "## RANDOM NUMBER"
   ]
  },
  {
   "cell_type": "code",
   "execution_count": null,
   "metadata": {
    "id": "eoQQDlopQ-Gc"
   },
   "outputs": [],
   "source": [
    "random_seed = 42    #random seed per poter riprodurre l'esperimento"
   ]
  },
  {
   "cell_type": "markdown",
   "metadata": {
    "id": "e-aNq1RyQ-Gc"
   },
   "source": [
    "## GLOBAL VARIABLES"
   ]
  },
  {
   "cell_type": "code",
   "execution_count": null,
   "metadata": {
    "id": "rXkuIzrBQ-Gc"
   },
   "outputs": [],
   "source": [
    "IMAGE_SIZE = 224  #dimensione delle immagini in input (224x224)\n",
    "CLASS_NAMES = ['MILD', 'SEVERE']    #valori delle label T"
   ]
  },
  {
   "cell_type": "markdown",
   "metadata": {
    "id": "Q-Rh_nRmQ-Gd"
   },
   "source": [
    "# FUNCTIONS"
   ]
  },
  {
   "cell_type": "markdown",
   "metadata": {
    "id": "eTzqdZe6Q-Gd"
   },
   "source": [
    "### Loader Dicom from Winner Hackathon"
   ]
  },
  {
   "cell_type": "code",
   "execution_count": null,
   "metadata": {
    "id": "BGpFJdOwQ-Gd"
   },
   "outputs": [],
   "source": [
    "def clahe_transform(img):\n",
    "    clahe = cv2.createCLAHE(clipLimit=1.0, tileGridSize=(4, 4))\n",
    "    img = clahe.apply((img * 255).astype(np.uint8)) / 255\n",
    "    return img\n",
    "\n",
    "def midpoint(x1, y1, x2, y2):\n",
    "    x_mid = int((x1 + x2)/2)\n",
    "    y_mid = int((y1 + y2)/2)\n",
    "    return (x_mid, y_mid)\n",
    "\n",
    "def normalize(img, min_val=None, max_val=None):\n",
    "    if not min_val:\n",
    "        min_val = img.min()\n",
    "    if not max_val:\n",
    "        max_val = img.max()\n",
    "    img = (img - min_val) / (max_val - min_val)\n",
    "    return img\n",
    "\n",
    "def load_img(img_path):\n",
    "    filename, extension = os.path.splitext(img_path)\n",
    "    if extension == \".dcm\":\n",
    "        dicom = pydicom.dcmread(img_path)\n",
    "        img = dicom.pixel_array.astype(float)\n",
    "        photometric_interpretation = dicom.PhotometricInterpretation\n",
    "    else:\n",
    "        img = Image.open(img_path)\n",
    "        img = np.array(img).astype(float)\n",
    "        photometric_interpretation = 'MONOCHROME1'\n",
    "    return img, photometric_interpretation\n",
    "\n",
    "\n",
    "# def loader(img_path, img_dim, mask_path=None, box=None, clahe=False):\n",
    "def loader(img_path, img_dim, clahe=False):\n",
    "    # Img\n",
    "    img, photometric_interpretation = load_img(img_path)\n",
    "    min_val, max_val = img.min(), img.max()\n",
    "\n",
    "    # Pathometric Interpretation\n",
    "    if photometric_interpretation == 'MONOCHROME1':\n",
    "        img = np.interp(img, (min_val, max_val), (max_val, min_val))\n",
    "    # To Grayscale\n",
    "    # if img.ndim > 2:\n",
    "        # img = img.mean(axis=2)\n",
    "\n",
    "    # Resize\n",
    "    img = cv2.resize(img, (img_dim, img_dim))\n",
    "    # Normalize\n",
    "    img = normalize(img, min_val=min_val, max_val=max_val)\n",
    "    # CLAHE\n",
    "    if clahe:\n",
    "        img = clahe_transform(img)\n",
    "    \n",
    "    # To 3 Channels\n",
    "    img = np.stack((img, img, img), axis=-1)\n",
    "    \n",
    "    return img\n",
    "\n",
    "def loadAllImgToArray(DB,dimention,cName,basePt):\n",
    "    paths = DB[cName].to_list()\n",
    "\n",
    "    # print(paths)\n",
    "    imgs = []\n",
    "    for p in tqdm(paths):\n",
    "        img = loader(basePt / p , dimention, clahe= True)\n",
    "        imgs.append(img)\n",
    "\n",
    "    imgs = np.array(imgs)\n",
    "    return imgs\n",
    "    "
   ]
  },
  {
   "cell_type": "markdown",
   "metadata": {
    "id": "QjwtpJUnQ-Ge"
   },
   "source": [
    "# Load From DB"
   ]
  },
  {
   "cell_type": "markdown",
   "metadata": {
    "id": "1zZEBm6mQ-Ge"
   },
   "source": [
    "### Import Database DICOM"
   ]
  },
  {
   "cell_type": "code",
   "execution_count": null,
   "metadata": {
    "colab": {
     "base_uri": "https://localhost:8080/"
    },
    "id": "UToRw5LVjHf-",
    "outputId": "08ca3181-072d-4b54-9cfc-8866a197bac3"
   },
   "outputs": [
    {
     "name": "stdout",
     "output_type": "stream",
     "text": [
      "Mounted at /content/drive\n"
     ]
    }
   ],
   "source": [
    "# monto il drive dal quale prendere le immagini\n",
    "from google.colab import drive\n",
    "drive.mount('/content/drive')"
   ]
  },
  {
   "cell_type": "code",
   "execution_count": null,
   "metadata": {
    "id": "3oBnxkx9Q-Ge"
   },
   "outputs": [],
   "source": [
    "# leggo tutto il dataset\n",
    "COVID19_dataHK = pd.read_excel(databasePath/Path('trainClinData.xls'))\n",
    "\n",
    "# prendo solo la label di output e il path della relativa immagine\n",
    "COVID19_dataHK = pd.DataFrame(COVID19_dataHK[['ImageFile','Prognosis']])"
   ]
  },
  {
   "cell_type": "code",
   "execution_count": null,
   "metadata": {
    "colab": {
     "base_uri": "https://localhost:8080/"
    },
    "id": "fYzNXcY2Q-Gf",
    "outputId": "beca2e44-7058-4fb5-b186-81cd3f4952fb"
   },
   "outputs": [
    {
     "data": {
      "text/html": [
       "\n",
       "  <div id=\"df-22551dde-3b19-4743-b6ee-9f25f0a82ba0\">\n",
       "    <div class=\"colab-df-container\">\n",
       "      <div>\n",
       "<style scoped>\n",
       "    .dataframe tbody tr th:only-of-type {\n",
       "        vertical-align: middle;\n",
       "    }\n",
       "\n",
       "    .dataframe tbody tr th {\n",
       "        vertical-align: top;\n",
       "    }\n",
       "\n",
       "    .dataframe thead th {\n",
       "        text-align: right;\n",
       "    }\n",
       "</style>\n",
       "<table border=\"1\" class=\"dataframe\">\n",
       "  <thead>\n",
       "    <tr style=\"text-align: right;\">\n",
       "      <th></th>\n",
       "      <th>ImageFile</th>\n",
       "      <th>Prognosis</th>\n",
       "    </tr>\n",
       "  </thead>\n",
       "  <tbody>\n",
       "    <tr>\n",
       "      <th>0</th>\n",
       "      <td>P_102.png</td>\n",
       "      <td>SEVERE</td>\n",
       "    </tr>\n",
       "    <tr>\n",
       "      <th>1</th>\n",
       "      <td>P_131.png</td>\n",
       "      <td>MILD</td>\n",
       "    </tr>\n",
       "    <tr>\n",
       "      <th>2</th>\n",
       "      <td>P_132.png</td>\n",
       "      <td>MILD</td>\n",
       "    </tr>\n",
       "    <tr>\n",
       "      <th>3</th>\n",
       "      <td>P_117.png</td>\n",
       "      <td>MILD</td>\n",
       "    </tr>\n",
       "    <tr>\n",
       "      <th>4</th>\n",
       "      <td>P_16.png</td>\n",
       "      <td>SEVERE</td>\n",
       "    </tr>\n",
       "  </tbody>\n",
       "</table>\n",
       "</div>\n",
       "      <button class=\"colab-df-convert\" onclick=\"convertToInteractive('df-22551dde-3b19-4743-b6ee-9f25f0a82ba0')\"\n",
       "              title=\"Convert this dataframe to an interactive table.\"\n",
       "              style=\"display:none;\">\n",
       "        \n",
       "  <svg xmlns=\"http://www.w3.org/2000/svg\" height=\"24px\"viewBox=\"0 0 24 24\"\n",
       "       width=\"24px\">\n",
       "    <path d=\"M0 0h24v24H0V0z\" fill=\"none\"/>\n",
       "    <path d=\"M18.56 5.44l.94 2.06.94-2.06 2.06-.94-2.06-.94-.94-2.06-.94 2.06-2.06.94zm-11 1L8.5 8.5l.94-2.06 2.06-.94-2.06-.94L8.5 2.5l-.94 2.06-2.06.94zm10 10l.94 2.06.94-2.06 2.06-.94-2.06-.94-.94-2.06-.94 2.06-2.06.94z\"/><path d=\"M17.41 7.96l-1.37-1.37c-.4-.4-.92-.59-1.43-.59-.52 0-1.04.2-1.43.59L10.3 9.45l-7.72 7.72c-.78.78-.78 2.05 0 2.83L4 21.41c.39.39.9.59 1.41.59.51 0 1.02-.2 1.41-.59l7.78-7.78 2.81-2.81c.8-.78.8-2.07 0-2.86zM5.41 20L4 18.59l7.72-7.72 1.47 1.35L5.41 20z\"/>\n",
       "  </svg>\n",
       "      </button>\n",
       "      \n",
       "  <style>\n",
       "    .colab-df-container {\n",
       "      display:flex;\n",
       "      flex-wrap:wrap;\n",
       "      gap: 12px;\n",
       "    }\n",
       "\n",
       "    .colab-df-convert {\n",
       "      background-color: #E8F0FE;\n",
       "      border: none;\n",
       "      border-radius: 50%;\n",
       "      cursor: pointer;\n",
       "      display: none;\n",
       "      fill: #1967D2;\n",
       "      height: 32px;\n",
       "      padding: 0 0 0 0;\n",
       "      width: 32px;\n",
       "    }\n",
       "\n",
       "    .colab-df-convert:hover {\n",
       "      background-color: #E2EBFA;\n",
       "      box-shadow: 0px 1px 2px rgba(60, 64, 67, 0.3), 0px 1px 3px 1px rgba(60, 64, 67, 0.15);\n",
       "      fill: #174EA6;\n",
       "    }\n",
       "\n",
       "    [theme=dark] .colab-df-convert {\n",
       "      background-color: #3B4455;\n",
       "      fill: #D2E3FC;\n",
       "    }\n",
       "\n",
       "    [theme=dark] .colab-df-convert:hover {\n",
       "      background-color: #434B5C;\n",
       "      box-shadow: 0px 1px 3px 1px rgba(0, 0, 0, 0.15);\n",
       "      filter: drop-shadow(0px 1px 2px rgba(0, 0, 0, 0.3));\n",
       "      fill: #FFFFFF;\n",
       "    }\n",
       "  </style>\n",
       "\n",
       "      <script>\n",
       "        const buttonEl =\n",
       "          document.querySelector('#df-22551dde-3b19-4743-b6ee-9f25f0a82ba0 button.colab-df-convert');\n",
       "        buttonEl.style.display =\n",
       "          google.colab.kernel.accessAllowed ? 'block' : 'none';\n",
       "\n",
       "        async function convertToInteractive(key) {\n",
       "          const element = document.querySelector('#df-22551dde-3b19-4743-b6ee-9f25f0a82ba0');\n",
       "          const dataTable =\n",
       "            await google.colab.kernel.invokeFunction('convertToInteractive',\n",
       "                                                     [key], {});\n",
       "          if (!dataTable) return;\n",
       "\n",
       "          const docLinkHtml = 'Like what you see? Visit the ' +\n",
       "            '<a target=\"_blank\" href=https://colab.research.google.com/notebooks/data_table.ipynb>data table notebook</a>'\n",
       "            + ' to learn more about interactive tables.';\n",
       "          element.innerHTML = '';\n",
       "          dataTable['output_type'] = 'display_data';\n",
       "          await google.colab.output.renderOutput(dataTable, element);\n",
       "          const docLink = document.createElement('div');\n",
       "          docLink.innerHTML = docLinkHtml;\n",
       "          element.appendChild(docLink);\n",
       "        }\n",
       "      </script>\n",
       "    </div>\n",
       "  </div>\n",
       "  "
      ],
      "text/plain": [
       "   ImageFile Prognosis\n",
       "0  P_102.png    SEVERE\n",
       "1  P_131.png      MILD\n",
       "2  P_132.png      MILD\n",
       "3  P_117.png      MILD\n",
       "4   P_16.png    SEVERE"
      ]
     },
     "execution_count": 15,
     "metadata": {},
     "output_type": "execute_result"
    }
   ],
   "source": [
    "# struttura\n",
    "COVID19_dataHK.head()"
   ]
  },
  {
   "cell_type": "code",
   "execution_count": null,
   "metadata": {
    "id": "iO3qcP5CQ-Gf"
   },
   "outputs": [],
   "source": [
    "# transcodifica di label di output con valori 0 e 1\n",
    "mapping = {}\n",
    "for x in range(len(CLASS_NAMES)):\n",
    "    mapping[CLASS_NAMES[x]] = x\n",
    "\n",
    "takename = copy.deepcopy(COVID19_dataHK['Prognosis'])\n",
    "for x in range(len(takename)):\n",
    "    takename[x] = mapping[takename[x]]\n",
    "\n",
    "\n",
    "one_h_enc = to_categorical(takename)\n",
    "\n",
    "COVID19_dataHK['MILD'] = one_h_enc[:,0]\n",
    "COVID19_dataHK['SEVERE'] = one_h_enc[:,1]"
   ]
  },
  {
   "cell_type": "code",
   "execution_count": null,
   "metadata": {
    "colab": {
     "base_uri": "https://localhost:8080/"
    },
    "id": "yHLculhfQ-Gf",
    "outputId": "ea72f6eb-ccc3-4efb-d98f-3dc79204faee"
   },
   "outputs": [
    {
     "data": {
      "text/html": [
       "\n",
       "  <div id=\"df-fe8323d1-2d69-4e03-8620-73b55a8f9f4d\">\n",
       "    <div class=\"colab-df-container\">\n",
       "      <div>\n",
       "<style scoped>\n",
       "    .dataframe tbody tr th:only-of-type {\n",
       "        vertical-align: middle;\n",
       "    }\n",
       "\n",
       "    .dataframe tbody tr th {\n",
       "        vertical-align: top;\n",
       "    }\n",
       "\n",
       "    .dataframe thead th {\n",
       "        text-align: right;\n",
       "    }\n",
       "</style>\n",
       "<table border=\"1\" class=\"dataframe\">\n",
       "  <thead>\n",
       "    <tr style=\"text-align: right;\">\n",
       "      <th></th>\n",
       "      <th>ImageFile</th>\n",
       "      <th>Prognosis</th>\n",
       "      <th>MILD</th>\n",
       "      <th>SEVERE</th>\n",
       "    </tr>\n",
       "  </thead>\n",
       "  <tbody>\n",
       "    <tr>\n",
       "      <th>0</th>\n",
       "      <td>P_102.png</td>\n",
       "      <td>SEVERE</td>\n",
       "      <td>0.0</td>\n",
       "      <td>1.0</td>\n",
       "    </tr>\n",
       "    <tr>\n",
       "      <th>1</th>\n",
       "      <td>P_131.png</td>\n",
       "      <td>MILD</td>\n",
       "      <td>1.0</td>\n",
       "      <td>0.0</td>\n",
       "    </tr>\n",
       "    <tr>\n",
       "      <th>2</th>\n",
       "      <td>P_132.png</td>\n",
       "      <td>MILD</td>\n",
       "      <td>1.0</td>\n",
       "      <td>0.0</td>\n",
       "    </tr>\n",
       "    <tr>\n",
       "      <th>3</th>\n",
       "      <td>P_117.png</td>\n",
       "      <td>MILD</td>\n",
       "      <td>1.0</td>\n",
       "      <td>0.0</td>\n",
       "    </tr>\n",
       "    <tr>\n",
       "      <th>4</th>\n",
       "      <td>P_16.png</td>\n",
       "      <td>SEVERE</td>\n",
       "      <td>0.0</td>\n",
       "      <td>1.0</td>\n",
       "    </tr>\n",
       "  </tbody>\n",
       "</table>\n",
       "</div>\n",
       "      <button class=\"colab-df-convert\" onclick=\"convertToInteractive('df-fe8323d1-2d69-4e03-8620-73b55a8f9f4d')\"\n",
       "              title=\"Convert this dataframe to an interactive table.\"\n",
       "              style=\"display:none;\">\n",
       "        \n",
       "  <svg xmlns=\"http://www.w3.org/2000/svg\" height=\"24px\"viewBox=\"0 0 24 24\"\n",
       "       width=\"24px\">\n",
       "    <path d=\"M0 0h24v24H0V0z\" fill=\"none\"/>\n",
       "    <path d=\"M18.56 5.44l.94 2.06.94-2.06 2.06-.94-2.06-.94-.94-2.06-.94 2.06-2.06.94zm-11 1L8.5 8.5l.94-2.06 2.06-.94-2.06-.94L8.5 2.5l-.94 2.06-2.06.94zm10 10l.94 2.06.94-2.06 2.06-.94-2.06-.94-.94-2.06-.94 2.06-2.06.94z\"/><path d=\"M17.41 7.96l-1.37-1.37c-.4-.4-.92-.59-1.43-.59-.52 0-1.04.2-1.43.59L10.3 9.45l-7.72 7.72c-.78.78-.78 2.05 0 2.83L4 21.41c.39.39.9.59 1.41.59.51 0 1.02-.2 1.41-.59l7.78-7.78 2.81-2.81c.8-.78.8-2.07 0-2.86zM5.41 20L4 18.59l7.72-7.72 1.47 1.35L5.41 20z\"/>\n",
       "  </svg>\n",
       "      </button>\n",
       "      \n",
       "  <style>\n",
       "    .colab-df-container {\n",
       "      display:flex;\n",
       "      flex-wrap:wrap;\n",
       "      gap: 12px;\n",
       "    }\n",
       "\n",
       "    .colab-df-convert {\n",
       "      background-color: #E8F0FE;\n",
       "      border: none;\n",
       "      border-radius: 50%;\n",
       "      cursor: pointer;\n",
       "      display: none;\n",
       "      fill: #1967D2;\n",
       "      height: 32px;\n",
       "      padding: 0 0 0 0;\n",
       "      width: 32px;\n",
       "    }\n",
       "\n",
       "    .colab-df-convert:hover {\n",
       "      background-color: #E2EBFA;\n",
       "      box-shadow: 0px 1px 2px rgba(60, 64, 67, 0.3), 0px 1px 3px 1px rgba(60, 64, 67, 0.15);\n",
       "      fill: #174EA6;\n",
       "    }\n",
       "\n",
       "    [theme=dark] .colab-df-convert {\n",
       "      background-color: #3B4455;\n",
       "      fill: #D2E3FC;\n",
       "    }\n",
       "\n",
       "    [theme=dark] .colab-df-convert:hover {\n",
       "      background-color: #434B5C;\n",
       "      box-shadow: 0px 1px 3px 1px rgba(0, 0, 0, 0.15);\n",
       "      filter: drop-shadow(0px 1px 2px rgba(0, 0, 0, 0.3));\n",
       "      fill: #FFFFFF;\n",
       "    }\n",
       "  </style>\n",
       "\n",
       "      <script>\n",
       "        const buttonEl =\n",
       "          document.querySelector('#df-fe8323d1-2d69-4e03-8620-73b55a8f9f4d button.colab-df-convert');\n",
       "        buttonEl.style.display =\n",
       "          google.colab.kernel.accessAllowed ? 'block' : 'none';\n",
       "\n",
       "        async function convertToInteractive(key) {\n",
       "          const element = document.querySelector('#df-fe8323d1-2d69-4e03-8620-73b55a8f9f4d');\n",
       "          const dataTable =\n",
       "            await google.colab.kernel.invokeFunction('convertToInteractive',\n",
       "                                                     [key], {});\n",
       "          if (!dataTable) return;\n",
       "\n",
       "          const docLinkHtml = 'Like what you see? Visit the ' +\n",
       "            '<a target=\"_blank\" href=https://colab.research.google.com/notebooks/data_table.ipynb>data table notebook</a>'\n",
       "            + ' to learn more about interactive tables.';\n",
       "          element.innerHTML = '';\n",
       "          dataTable['output_type'] = 'display_data';\n",
       "          await google.colab.output.renderOutput(dataTable, element);\n",
       "          const docLink = document.createElement('div');\n",
       "          docLink.innerHTML = docLinkHtml;\n",
       "          element.appendChild(docLink);\n",
       "        }\n",
       "      </script>\n",
       "    </div>\n",
       "  </div>\n",
       "  "
      ],
      "text/plain": [
       "   ImageFile Prognosis  MILD  SEVERE\n",
       "0  P_102.png    SEVERE   0.0     1.0\n",
       "1  P_131.png      MILD   1.0     0.0\n",
       "2  P_132.png      MILD   1.0     0.0\n",
       "3  P_117.png      MILD   1.0     0.0\n",
       "4   P_16.png    SEVERE   0.0     1.0"
      ]
     },
     "execution_count": 17,
     "metadata": {},
     "output_type": "execute_result"
    }
   ],
   "source": [
    "# struttura\n",
    "COVID19_dataHK.head()"
   ]
  },
  {
   "cell_type": "code",
   "execution_count": null,
   "metadata": {
    "id": "Dz0CT04MQ-Gf"
   },
   "outputs": [],
   "source": [
    "# salvo nomi immagini\n",
    "X_full = pd.DataFrame(COVID19_dataHK[['ImageFile']])\n",
    "# salvo relative label di output\n",
    "Y_full = pd.DataFrame(COVID19_dataHK[['MILD','SEVERE']])"
   ]
  },
  {
   "cell_type": "code",
   "execution_count": null,
   "metadata": {
    "colab": {
     "base_uri": "https://localhost:8080/"
    },
    "id": "VSfhe423Q-Gg",
    "outputId": "182dbb19-4c8e-428e-dc9c-a2527c378fdc"
   },
   "outputs": [
    {
     "name": "stdout",
     "output_type": "stream",
     "text": [
      "Training set shape X : (882, 1)   y : (882, 2)\n",
      "Validation set shape X : (221, 1)   y : (221, 2)\n"
     ]
    }
   ],
   "source": [
    "# split del train e test per il train del modello, mantenedo la corrispondenza fra immagine e label di output\n",
    "\n",
    "X_train, X_val, Y_train, Y_val = train_test_split(X_full,Y_full, test_size=0.2,shuffle=True, random_state=random_seed)\n",
    "\n",
    "print(\"Training set shape X : \"+str(X_train.shape)+\"   y : \"+str(Y_train.shape))\n",
    "print(\"Validation set shape X : \"+str(X_val.shape)+\"   y : \"+str(Y_val.shape))"
   ]
  },
  {
   "cell_type": "markdown",
   "metadata": {
    "id": "s8oRleWRQ-Gg"
   },
   "source": [
    "### IMPORT PNG instead of DICOM"
   ]
  },
  {
   "cell_type": "code",
   "execution_count": null,
   "metadata": {
    "colab": {
     "base_uri": "https://localhost:8080/"
    },
    "id": "kS_JLDFKQ-Gg",
    "outputId": "3a466652-f149-4e15-a38a-47a901fba655"
   },
   "outputs": [
    {
     "name": "stderr",
     "output_type": "stream",
     "text": [
      "100%|██████████| 882/882 [12:46<00:00,  1.15it/s]\n",
      "100%|██████████| 221/221 [03:16<00:00,  1.13it/s]\n"
     ]
    }
   ],
   "source": [
    "# carico le immagini dal database\n",
    "X_trainIMG = loadAllImgToArray(X_train,IMAGE_SIZE,'ImageFile',databasePathIMAGES)\n",
    "X_valIMG = loadAllImgToArray(X_val,IMAGE_SIZE,'ImageFile',databasePathIMAGES)"
   ]
  },
  {
   "cell_type": "code",
   "execution_count": null,
   "metadata": {
    "colab": {
     "base_uri": "https://localhost:8080/"
    },
    "id": "p5_nJ-87Q-Gg",
    "outputId": "e94c126d-d6dc-4ecc-8728-656e52a39bee"
   },
   "outputs": [
    {
     "name": "stdout",
     "output_type": "stream",
     "text": [
      "(882, 224, 224, 3)\n",
      "(221, 224, 224, 3)\n"
     ]
    }
   ],
   "source": [
    "# mostra la shape delle imagini\n",
    "\n",
    "print(X_trainIMG.shape)\n",
    "print(X_valIMG.shape)"
   ]
  },
  {
   "cell_type": "code",
   "execution_count": null,
   "metadata": {
    "colab": {
     "base_uri": "https://localhost:8080/"
    },
    "id": "Z1Ov1zNDQ-Gh",
    "outputId": "0d3a8667-ab08-4da4-8522-d5f9fd240c02"
   },
   "outputs": [
    {
     "data": {
      "text/plain": [
       "<matplotlib.image.AxesImage at 0x7f94ec0b0dd0>"
      ]
     },
     "execution_count": 23,
     "metadata": {},
     "output_type": "execute_result"
    },
    {
     "data": {
      "image/png": "[encoded data removed]",
      "text/plain": [
       "<Figure size 432x288 with 1 Axes>"
      ]
     },
     "metadata": {
      "needs_background": "light"
     },
     "output_type": "display_data"
    }
   ],
   "source": [
    "# mostra un immagine\n",
    "plt.figure()\n",
    "plt.imshow(X_valIMG[30])"
   ]
  },
  {
   "cell_type": "markdown",
   "metadata": {
    "id": "hoacXR_nQ-Gh"
   },
   "source": [
    "# Model load and classification"
   ]
  },
  {
   "cell_type": "markdown",
   "metadata": {
    "id": "nzT4y6yJQ-Gj"
   },
   "source": [
    "## Resnet50"
   ]
  },
  {
   "cell_type": "code",
   "execution_count": null,
   "metadata": {
    "id": "pDHG7XNqQ-Gj"
   },
   "outputs": [],
   "source": [
    "#   MODEL CREATION\n",
    " \n",
    "#  creo il modello base pre trainato\n",
    "base_model = ResNet50(\n",
    "    include_top=False,\n",
    "    weights='imagenet',\n",
    "    input_shape=(IMAGE_SIZE,IMAGE_SIZE,3),\n",
    "    pooling=None,\n",
    "    )\n",
    "\n",
    "# aggiungo un layer average pooling\n",
    "x = base_model.output\n",
    "x = GlobalAveragePooling2D()(x)\n",
    "# aggiungo un fully-connected layer\n",
    "x = Dense(1024, activation='relu')(x)\n",
    "# aggiungo un logistic layer\n",
    "output = Dense(2, activation='softmax')(x)\n",
    "\n",
    "# modello totale\n",
    "model = Model(inputs=base_model.input, outputs=output)"
   ]
  },
  {
   "cell_type": "code",
   "execution_count": null,
   "metadata": {
    "id": "PTsGZCq9Q-Gj"
   },
   "outputs": [],
   "source": [
    "# stampo il grafico modello\n",
    "\n",
    "plot_model(model, to_file=plotpath / Path('ResNet50Model.png'), show_shapes=True, show_layer_names=True)"
   ]
  },
  {
   "cell_type": "code",
   "execution_count": null,
   "metadata": {
    "id": "YmS2ww6KQ-Gk"
   },
   "outputs": [],
   "source": [
    "# MODEL COMPILE: imposto le variabili di train del modello\n",
    "\n",
    "initial_learning_rate = 1e-3    # learning rate iniziali\n",
    "lr_schedule = tf.keras.optimizers.schedules.ExponentialDecay(       #learning rate schedule with exponential decay\n",
    "    initial_learning_rate, decay_steps=500, decay_rate=0.9, staircase=False\n",
    ")\n",
    "\n",
    "model.compile(\n",
    "        #optimizer=tf.keras.optimizers.Adam(),   #optimizer Adam standard\n",
    "         optimizer=tf.keras.optimizers.Adam(lr_schedule),  #with learning rate schedule (before)\n",
    "        # optimizer=tf.keras.optimizers.Adam(learning_rate = 1e-2, decay=1e-10),    #with decay\n",
    "        # optimizer=tf.keras.optimizers.Adam(learning_rate = 1e-3),     #start from 1e-3\n",
    "\n",
    "        # loss=\"binary_crossentropy\",       #loss binary crossentropy\n",
    "        loss=\"categorical_crossentropy\",    #loss categorical crossentropy (at least two classes)\n",
    "        # loss=\"hinge\",                     #loss hinge\n",
    "\n",
    "        # metrics=['accuracy', 'precision', 'recall'],          #metric with precision and recall\n",
    "        metrics=['accuracy'],   #metric with accuracy only\n",
    ")"
   ]
  },
  {
   "cell_type": "code",
   "execution_count": null,
   "metadata": {
    "id": "5VxXrR15Q-Gk"
   },
   "outputs": [],
   "source": [
    "# MODEL TRAIN\n",
    "\n",
    "# CREATE CALLBACKS\n",
    "# checkpoint that saves the model at path checkpointPath/ResNet50_model when the val_accuracy increase\n",
    "checkpoint_accuracy = tf.keras.callbacks.ModelCheckpoint(\n",
    "\t\t\t\t\t\tcheckpointPath / Path('ResNet50_model'), \n",
    "\t\t\t\t\t\tmonitor='val_accuracy', verbose=1, \n",
    "\t\t\t\t\t\tsave_best_only=True, mode='max')\n",
    "\n",
    "# callback for early stopping that monitor loss with patience of 5\n",
    "early_stopping = tf.keras.callbacks.EarlyStopping(monitor='loss', patience=50, verbose=0)\n",
    "\n",
    "#list of callbacks\n",
    "callbacks_list = [checkpoint_accuracy, early_stopping]\n",
    "\n",
    "#fit\n",
    "history = model.fit(\n",
    "        x = X_trainIMG,     #x_train\n",
    "        y = Y_train,        #y_train\n",
    "        epochs = 500,        #epochs\n",
    "        validation_data = [X_valIMG,Y_val],     #validation data\n",
    "        callbacks = callbacks_list,    #callback list\n",
    "        batch_size=16   #batch size\n",
    ")"
   ]
  },
  {
   "cell_type": "code",
   "execution_count": null,
   "metadata": {
    "colab": {
     "base_uri": "https://localhost:8080/",
     "height": 1000
    },
    "id": "Z-OmRMjzQ-Gk",
    "outputId": "22d32f0e-dc2c-4d45-b563-572ca71d36e8"
   },
   "outputs": [
    {
     "data": {
      "text/html": [
       "<html>\n",
       "<head><meta charset=\"utf-8\" /></head>\n",
       "<body>\n",
       "    <div>            <script src=\"https://cdnjs.cloudflare.com/ajax/libs/mathjax/2.7.5/MathJax.js?config=TeX-AMS-MML_SVG\"></script><script type=\"text/javascript\">if (window.MathJax) {MathJax.Hub.Config({SVG: {font: \"STIX-Web\"}});}</script>                <script type=\"text/javascript\">window.PlotlyConfig = {MathJaxConfig: 'local'};</script>\n",
       "        <script src=\"https://cdn.plot.ly/plotly-2.8.3.min.js\"></script>                <div id=\"9f1de518-7cc9-418a-bc4e-49e7a771c873\" class=\"plotly-graph-div\" style=\"height:500px; width:700px;\"></div>            <script type=\"text/javascript\">                                    window.PLOTLYENV=window.PLOTLYENV || {};                                    if (document.getElementById(\"9f1de518-7cc9-418a-bc4e-49e7a771c873\")) {                    Plotly.newPlot(                        \"9f1de518-7cc9-418a-bc4e-49e7a771c873\",                        [{\"name\":\"Train loss\",\"y\":[1.0044467449188232,0.66939377784729,0.6403692960739136,0.6376715898513794,0.6138941645622253,0.6144347786903381,0.6034442186355591,0.5907446146011353,0.5463272929191589,0.4931623935699463,0.5236374735832214,0.4849189221858978,0.43344950675964355,0.35163843631744385,0.3500492572784424,0.3018932044506073,0.4369024932384491,0.3334232270717621,0.2106504589319229,0.28325775265693665,0.23113854229450226,0.15417470037937164,0.0791391059756279,0.35704389214515686,0.1802968680858612,0.1056273952126503,0.07477269321680069,0.13498997688293457,0.11925721168518066,0.09185302257537842,0.08570357412099838,0.12028708308935165,0.1687624603509903,0.08392558991909027,0.05306132137775421,0.03599682077765465,0.012423399835824966,0.005756090395152569,0.007081742398440838,0.003906501457095146,0.08359785377979279,0.07052342593669891,0.02929142490029335,0.012530392967164516,0.08927776664495468,0.0816502794623375,0.20179520547389984,0.07789821177721024,0.02503104694187641,0.009216084145009518,0.013122503645718098,0.017831897363066673,0.008644163608551025,0.010935964062809944,0.04827704280614853,0.13949260115623474,0.06594328582286835,0.033220551908016205,0.08976048976182938,0.030000081285834312,0.009120184928178787,0.009091651067137718,0.054162558168172836,0.02918105386197567,0.04163048416376114,0.007525437045842409,0.0028714346699416637,0.0024967938661575317,0.0023157226387411356,0.0042369612492620945,0.017026498913764954,0.04337208718061447,0.027483956888318062,0.0831361711025238,0.06361289322376251,0.01527300477027893,0.007702977862209082,0.006022466346621513,0.0032204065937548876,0.005000934470444918,0.003464986104518175,0.030368000268936157,0.041564349085092545,0.007813636213541031,0.0034708024468272924,0.003416477469727397,0.002275767270475626,0.0021358272060751915,0.003139119129627943,0.008840031921863556,0.0195652823895216,0.19401614367961884,0.03781993314623833,0.01552004273980856,0.009073457680642605,0.00450498703867197,0.0024631682317703962,0.0024071026127785444,0.002711433218792081,0.0022063858341425657,0.00624995119869709,0.08563800156116486,0.03962990641593933,0.011335935443639755,0.0031000657472759485,0.004228417761623859,0.003340143011882901,0.0073842271231114864,0.013709742575883865,0.002384654013440013,0.005044548772275448,0.007710157427936792,0.03608549013733864,0.012591022066771984,0.007764297071844339,0.0032945366110652685,0.002767817582935095,0.008912427350878716,0.010168102569878101,0.007270938251167536,0.002903933171182871,0.007208370137959719,0.08567562699317932,0.02345200814306736,0.005658286157995462,0.003225766820833087,0.004416945856064558,0.005207454320043325,0.0039360979571938515,0.0061518303118646145,0.0020241180900484324,0.0018932388629764318,0.0020206356421113014,0.0018129878444597125,0.0018500655423849821,0.0018444516463205218,0.0018173054559156299,0.001787062268704176,0.0016971317818388343,0.0019196744542568922,0.0019505720119923353,0.0019242821726948023,0.0016921914648264647,0.002406061626970768,0.05844961851835251,0.023061946034431458,0.010185361839830875,0.004844906739890575,0.004527250304818153,0.005087378900498152,0.011087066493928432,0.002314813667908311,0.0020577418617904186,0.0018148840172216296,0.001933837542310357,0.002628449583426118,0.036270804703235626,0.015146532095968723,0.00619136169552803,0.0022886639926582575,0.002523936564102769,0.0018527271458879113,0.001718695741146803,0.0017721098847687244,0.0019926351960748434,0.0017984621226787567,0.0018086801283061504,0.0017023826949298382,0.0017611043294891715,0.0029499311931431293,0.0017570803174749017,0.001686549629084766,0.001714634825475514,0.0016797044081613421,0.0017107470193877816,0.0015917427372187376,0.0017372191650792956,0.0016564064426347613,0.0017432578606531024,0.0017020006198436022,0.0017089867033064365,0.002666313434019685,0.0019520774949342012,0.001750990399159491,0.0022432904224842787,0.0018529875669628382,0.0016102129593491554,0.0016929818084463477,0.0015683368546888232,0.0015860502608120441,0.0016586468555033207,0.0019580090884119272,0.0016323531745001674,0.0016010660910978913,0.00162942660972476,0.0016371480887755752,0.0016723861917853355,0.0016369931399822235,0.0016209607711061835,0.002111078705638647,0.01450840849429369,0.0031938618049025536,0.004704469349235296,0.00685924431309104,0.0018080638255923986,0.0016739661805331707,0.0017503447597846389,0.0017581729916855693,0.0016697990940883756,0.0018263814272359014,0.001637822948396206,0.0016220156103372574,0.0021335789933800697,0.001625020056962967,0.0016361436573788524,0.0016261739656329155,0.0023548584431409836,0.00851612538099289,0.0017221407033503056,0.0018689167918637395,0.0018381895497441292,0.002634752308949828,0.011161400936543941,0.0016786447959020734,0.001738008693791926,0.0021185576915740967,0.001871370943263173,0.0030105875339359045,0.001843813108280301,0.0019168701255694032,0.001687661511823535,0.0016712980577722192,0.0018270714208483696,0.001636315369978547,0.0017046896973624825,0.001672796905040741,0.0018511272501200438,0.0016447337111458182,0.0018386202864348888],\"type\":\"scatter\"},{\"name\":\"Validation loss\",\"y\":[0.7515950798988342,0.738230288028717,0.8841809034347534,0.7091476917266846,0.7017958760261536,0.7484884262084961,0.8170188069343567,0.7075242400169373,0.7950823307037354,0.8001880049705505,0.7405524849891663,0.7236549258232117,0.7048051357269287,0.751188337802887,0.7437482476234436,0.8643388152122498,0.6863616108894348,0.7029170989990234,0.8803454041481018,1.5111948251724243,1.8048923015594482,1.4895964860916138,1.3023394346237183,1.5916155576705933,1.6837961673736572,1.3544443845748901,1.0974476337432861,1.2229132652282715,0.8823896646499634,1.417575716972351,1.6240730285644531,0.9944819808006287,1.0733474493026733,2.410670042037964,1.5622670650482178,1.6562961339950562,2.1785733699798584,2.097548246383667,2.2729287147521973,2.0909411907196045,1.348071813583374,1.523941159248352,1.8943113088607788,2.1683952808380127,2.005227565765381,3.4675180912017822,1.25907301902771,1.4749276638031006,1.5961469411849976,1.817355751991272,1.7182422876358032,1.9876543283462524,1.7850028276443481,1.9929708242416382,2.3856313228607178,1.4503188133239746,1.5246574878692627,1.806586742401123,2.154226779937744,2.464775562286377,2.278715133666992,2.16133975982666,2.7200472354888916,2.0373518466949463,1.7079523801803589,1.8157153129577637,1.9703842401504517,2.0480470657348633,2.0978267192840576,2.088308572769165,2.1614394187927246,1.8218287229537964,1.629698634147644,1.0794899463653564,1.8759348392486572,1.6393274068832397,1.7812113761901855,1.9622974395751953,2.0023443698883057,2.256216287612915,2.377593755722046,2.5998523235321045,1.5054775476455688,1.7387912273406982,1.9584022760391235,1.9605381488800049,2.016493797302246,2.0583324432373047,2.243316888809204,2.1992290019989014,1.759939432144165,1.5634043216705322,1.3436988592147827,1.8032689094543457,1.8326551914215088,1.970867395401001,2.1030445098876953,2.2353920936584473,2.2856814861297607,2.3413918018341064,3.094794988632202,1.6356234550476074,1.7754526138305664,1.7986782789230347,1.975265383720398,2.0655746459960938,2.1592185497283936,2.2546513080596924,2.687601327896118,2.5676755905151367,2.661893844604492,2.2260828018188477,2.1703526973724365,2.133863925933838,2.3944196701049805,2.5263376235961914,2.497750759124756,2.7757649421691895,2.3177545070648193,2.6213390827178955,2.8044588565826416,2.7065272331237793,3.2343878746032715,2.844005823135376,2.6275436878204346,2.5719611644744873,2.502227306365967,2.368492364883423,2.419640064239502,2.63143253326416,2.585519313812256,2.643433094024658,2.709157705307007,2.760835647583008,2.801439046859741,2.821608304977417,2.8525099754333496,2.8508992195129395,2.853062629699707,2.8799755573272705,2.901768922805786,3.040079355239868,3.0762240886688232,3.0257017612457275,1.64420485496521,2.6682615280151367,2.583709239959717,2.5491414070129395,2.4470787048339844,2.619128704071045,2.7086844444274902,2.839071750640869,2.833401679992676,2.824201822280884,2.8611648082733154,2.633263111114502,2.3681881427764893,2.417081356048584,2.51689076423645,2.6537749767303467,2.6869144439697266,2.7381882667541504,2.7596521377563477,2.796787738800049,2.812739610671997,2.8655524253845215,2.8968958854675293,2.927703380584717,2.955637216567993,3.085939645767212,3.034841775894165,3.049741744995117,3.068364143371582,3.0664985179901123,3.0944578647613525,3.134031295776367,3.085000514984131,3.1114208698272705,3.1591222286224365,3.1720082759857178,3.1977081298828125,3.387531042098999,3.287128448486328,3.3398234844207764,3.4118144512176514,3.3379058837890625,3.362510919570923,3.391359329223633,3.393756866455078,3.405550956726074,3.429666757583618,3.460690498352051,3.4793636798858643,3.4871270656585693,3.511603593826294,3.524038553237915,3.536931037902832,3.549966335296631,3.5587828159332275,3.5126380920410156,3.4322805404663086,3.434248208999634,3.475739002227783,3.646843194961548,3.420466423034668,3.2890074253082275,3.2618248462677,3.237837791442871,3.2535831928253174,3.290435314178467,3.318953037261963,3.356719732284546,3.340921640396118,3.390413999557495,3.4373044967651367,3.4484002590179443,3.408616781234741,3.7810583114624023,3.7148945331573486,3.838508129119873,3.7905192375183105,3.5739681720733643,2.8813483715057373,3.3870291709899902,3.571608066558838,3.6480226516723633,3.6490325927734375,3.632153272628784,3.6340134143829346,3.6538445949554443,3.6566696166992188,3.6870102882385254,3.6749961376190186,3.7002716064453125,3.7202095985412598,3.7264206409454346,3.7315709590911865,3.7515182495117188,3.778938055038452],\"type\":\"scatter\"}],                        {\"template\":{\"data\":{\"bar\":[{\"error_x\":{\"color\":\"#2a3f5f\"},\"error_y\":{\"color\":\"#2a3f5f\"},\"marker\":{\"line\":{\"color\":\"#E5ECF6\",\"width\":0.5},\"pattern\":{\"fillmode\":\"overlay\",\"size\":10,\"solidity\":0.2}},\"type\":\"bar\"}],\"barpolar\":[{\"marker\":{\"line\":{\"color\":\"#E5ECF6\",\"width\":0.5},\"pattern\":{\"fillmode\":\"overlay\",\"size\":10,\"solidity\":0.2}},\"type\":\"barpolar\"}],\"carpet\":[{\"aaxis\":{\"endlinecolor\":\"#2a3f5f\",\"gridcolor\":\"white\",\"linecolor\":\"white\",\"minorgridcolor\":\"white\",\"startlinecolor\":\"#2a3f5f\"},\"baxis\":{\"endlinecolor\":\"#2a3f5f\",\"gridcolor\":\"white\",\"linecolor\":\"white\",\"minorgridcolor\":\"white\",\"startlinecolor\":\"#2a3f5f\"},\"type\":\"carpet\"}],\"choropleth\":[{\"colorbar\":{\"outlinewidth\":0,\"ticks\":\"\"},\"type\":\"choropleth\"}],\"contour\":[{\"colorbar\":{\"outlinewidth\":0,\"ticks\":\"\"},\"colorscale\":[[0.0,\"#0d0887\"],[0.1111111111111111,\"#46039f\"],[0.2222222222222222,\"#7201a8\"],[0.3333333333333333,\"#9c179e\"],[0.4444444444444444,\"#bd3786\"],[0.5555555555555556,\"#d8576b\"],[0.6666666666666666,\"#ed7953\"],[0.7777777777777778,\"#fb9f3a\"],[0.8888888888888888,\"#fdca26\"],[1.0,\"#f0f921\"]],\"type\":\"contour\"}],\"contourcarpet\":[{\"colorbar\":{\"outlinewidth\":0,\"ticks\":\"\"},\"type\":\"contourcarpet\"}],\"heatmap\":[{\"colorbar\":{\"outlinewidth\":0,\"ticks\":\"\"},\"colorscale\":[[0.0,\"#0d0887\"],[0.1111111111111111,\"#46039f\"],[0.2222222222222222,\"#7201a8\"],[0.3333333333333333,\"#9c179e\"],[0.4444444444444444,\"#bd3786\"],[0.5555555555555556,\"#d8576b\"],[0.6666666666666666,\"#ed7953\"],[0.7777777777777778,\"#fb9f3a\"],[0.8888888888888888,\"#fdca26\"],[1.0,\"#f0f921\"]],\"type\":\"heatmap\"}],\"heatmapgl\":[{\"colorbar\":{\"outlinewidth\":0,\"ticks\":\"\"},\"colorscale\":[[0.0,\"#0d0887\"],[0.1111111111111111,\"#46039f\"],[0.2222222222222222,\"#7201a8\"],[0.3333333333333333,\"#9c179e\"],[0.4444444444444444,\"#bd3786\"],[0.5555555555555556,\"#d8576b\"],[0.6666666666666666,\"#ed7953\"],[0.7777777777777778,\"#fb9f3a\"],[0.8888888888888888,\"#fdca26\"],[1.0,\"#f0f921\"]],\"type\":\"heatmapgl\"}],\"histogram\":[{\"marker\":{\"pattern\":{\"fillmode\":\"overlay\",\"size\":10,\"solidity\":0.2}},\"type\":\"histogram\"}],\"histogram2d\":[{\"colorbar\":{\"outlinewidth\":0,\"ticks\":\"\"},\"colorscale\":[[0.0,\"#0d0887\"],[0.1111111111111111,\"#46039f\"],[0.2222222222222222,\"#7201a8\"],[0.3333333333333333,\"#9c179e\"],[0.4444444444444444,\"#bd3786\"],[0.5555555555555556,\"#d8576b\"],[0.6666666666666666,\"#ed7953\"],[0.7777777777777778,\"#fb9f3a\"],[0.8888888888888888,\"#fdca26\"],[1.0,\"#f0f921\"]],\"type\":\"histogram2d\"}],\"histogram2dcontour\":[{\"colorbar\":{\"outlinewidth\":0,\"ticks\":\"\"},\"colorscale\":[[0.0,\"#0d0887\"],[0.1111111111111111,\"#46039f\"],[0.2222222222222222,\"#7201a8\"],[0.3333333333333333,\"#9c179e\"],[0.4444444444444444,\"#bd3786\"],[0.5555555555555556,\"#d8576b\"],[0.6666666666666666,\"#ed7953\"],[0.7777777777777778,\"#fb9f3a\"],[0.8888888888888888,\"#fdca26\"],[1.0,\"#f0f921\"]],\"type\":\"histogram2dcontour\"}],\"mesh3d\":[{\"colorbar\":{\"outlinewidth\":0,\"ticks\":\"\"},\"type\":\"mesh3d\"}],\"parcoords\":[{\"line\":{\"colorbar\":{\"outlinewidth\":0,\"ticks\":\"\"}},\"type\":\"parcoords\"}],\"pie\":[{\"automargin\":true,\"type\":\"pie\"}],\"scatter\":[{\"marker\":{\"colorbar\":{\"outlinewidth\":0,\"ticks\":\"\"}},\"type\":\"scatter\"}],\"scatter3d\":[{\"line\":{\"colorbar\":{\"outlinewidth\":0,\"ticks\":\"\"}},\"marker\":{\"colorbar\":{\"outlinewidth\":0,\"ticks\":\"\"}},\"type\":\"scatter3d\"}],\"scattercarpet\":[{\"marker\":{\"colorbar\":{\"outlinewidth\":0,\"ticks\":\"\"}},\"type\":\"scattercarpet\"}],\"scattergeo\":[{\"marker\":{\"colorbar\":{\"outlinewidth\":0,\"ticks\":\"\"}},\"type\":\"scattergeo\"}],\"scattergl\":[{\"marker\":{\"colorbar\":{\"outlinewidth\":0,\"ticks\":\"\"}},\"type\":\"scattergl\"}],\"scattermapbox\":[{\"marker\":{\"colorbar\":{\"outlinewidth\":0,\"ticks\":\"\"}},\"type\":\"scattermapbox\"}],\"scatterpolar\":[{\"marker\":{\"colorbar\":{\"outlinewidth\":0,\"ticks\":\"\"}},\"type\":\"scatterpolar\"}],\"scatterpolargl\":[{\"marker\":{\"colorbar\":{\"outlinewidth\":0,\"ticks\":\"\"}},\"type\":\"scatterpolargl\"}],\"scatterternary\":[{\"marker\":{\"colorbar\":{\"outlinewidth\":0,\"ticks\":\"\"}},\"type\":\"scatterternary\"}],\"surface\":[{\"colorbar\":{\"outlinewidth\":0,\"ticks\":\"\"},\"colorscale\":[[0.0,\"#0d0887\"],[0.1111111111111111,\"#46039f\"],[0.2222222222222222,\"#7201a8\"],[0.3333333333333333,\"#9c179e\"],[0.4444444444444444,\"#bd3786\"],[0.5555555555555556,\"#d8576b\"],[0.6666666666666666,\"#ed7953\"],[0.7777777777777778,\"#fb9f3a\"],[0.8888888888888888,\"#fdca26\"],[1.0,\"#f0f921\"]],\"type\":\"surface\"}],\"table\":[{\"cells\":{\"fill\":{\"color\":\"#EBF0F8\"},\"line\":{\"color\":\"white\"}},\"header\":{\"fill\":{\"color\":\"#C8D4E3\"},\"line\":{\"color\":\"white\"}},\"type\":\"table\"}]},\"layout\":{\"annotationdefaults\":{\"arrowcolor\":\"#2a3f5f\",\"arrowhead\":0,\"arrowwidth\":1},\"autotypenumbers\":\"strict\",\"coloraxis\":{\"colorbar\":{\"outlinewidth\":0,\"ticks\":\"\"}},\"colorscale\":{\"diverging\":[[0,\"#8e0152\"],[0.1,\"#c51b7d\"],[0.2,\"#de77ae\"],[0.3,\"#f1b6da\"],[0.4,\"#fde0ef\"],[0.5,\"#f7f7f7\"],[0.6,\"#e6f5d0\"],[0.7,\"#b8e186\"],[0.8,\"#7fbc41\"],[0.9,\"#4d9221\"],[1,\"#276419\"]],\"sequential\":[[0.0,\"#0d0887\"],[0.1111111111111111,\"#46039f\"],[0.2222222222222222,\"#7201a8\"],[0.3333333333333333,\"#9c179e\"],[0.4444444444444444,\"#bd3786\"],[0.5555555555555556,\"#d8576b\"],[0.6666666666666666,\"#ed7953\"],[0.7777777777777778,\"#fb9f3a\"],[0.8888888888888888,\"#fdca26\"],[1.0,\"#f0f921\"]],\"sequentialminus\":[[0.0,\"#0d0887\"],[0.1111111111111111,\"#46039f\"],[0.2222222222222222,\"#7201a8\"],[0.3333333333333333,\"#9c179e\"],[0.4444444444444444,\"#bd3786\"],[0.5555555555555556,\"#d8576b\"],[0.6666666666666666,\"#ed7953\"],[0.7777777777777778,\"#fb9f3a\"],[0.8888888888888888,\"#fdca26\"],[1.0,\"#f0f921\"]]},\"colorway\":[\"#636efa\",\"#EF553B\",\"#00cc96\",\"#ab63fa\",\"#FFA15A\",\"#19d3f3\",\"#FF6692\",\"#B6E880\",\"#FF97FF\",\"#FECB52\"],\"font\":{\"color\":\"#2a3f5f\"},\"geo\":{\"bgcolor\":\"white\",\"lakecolor\":\"white\",\"landcolor\":\"#E5ECF6\",\"showlakes\":true,\"showland\":true,\"subunitcolor\":\"white\"},\"hoverlabel\":{\"align\":\"left\"},\"hovermode\":\"closest\",\"mapbox\":{\"style\":\"light\"},\"paper_bgcolor\":\"white\",\"plot_bgcolor\":\"#E5ECF6\",\"polar\":{\"angularaxis\":{\"gridcolor\":\"white\",\"linecolor\":\"white\",\"ticks\":\"\"},\"bgcolor\":\"#E5ECF6\",\"radialaxis\":{\"gridcolor\":\"white\",\"linecolor\":\"white\",\"ticks\":\"\"}},\"scene\":{\"xaxis\":{\"backgroundcolor\":\"#E5ECF6\",\"gridcolor\":\"white\",\"gridwidth\":2,\"linecolor\":\"white\",\"showbackground\":true,\"ticks\":\"\",\"zerolinecolor\":\"white\"},\"yaxis\":{\"backgroundcolor\":\"#E5ECF6\",\"gridcolor\":\"white\",\"gridwidth\":2,\"linecolor\":\"white\",\"showbackground\":true,\"ticks\":\"\",\"zerolinecolor\":\"white\"},\"zaxis\":{\"backgroundcolor\":\"#E5ECF6\",\"gridcolor\":\"white\",\"gridwidth\":2,\"linecolor\":\"white\",\"showbackground\":true,\"ticks\":\"\",\"zerolinecolor\":\"white\"}},\"shapedefaults\":{\"line\":{\"color\":\"#2a3f5f\"}},\"ternary\":{\"aaxis\":{\"gridcolor\":\"white\",\"linecolor\":\"white\",\"ticks\":\"\"},\"baxis\":{\"gridcolor\":\"white\",\"linecolor\":\"white\",\"ticks\":\"\"},\"bgcolor\":\"#E5ECF6\",\"caxis\":{\"gridcolor\":\"white\",\"linecolor\":\"white\",\"ticks\":\"\"}},\"title\":{\"x\":0.05},\"xaxis\":{\"automargin\":true,\"gridcolor\":\"white\",\"linecolor\":\"white\",\"ticks\":\"\",\"title\":{\"standoff\":15},\"zerolinecolor\":\"white\",\"zerolinewidth\":2},\"yaxis\":{\"automargin\":true,\"gridcolor\":\"white\",\"linecolor\":\"white\",\"ticks\":\"\",\"title\":{\"standoff\":15},\"zerolinecolor\":\"white\",\"zerolinewidth\":2}}},\"height\":500,\"width\":700,\"title\":{\"text\":\"Loss CNN\"},\"xaxis\":{\"title\":{\"text\":\"Epoch\"}},\"yaxis\":{\"title\":{\"text\":\"Loss\"}}},                        {\"responsive\": true}                    ).then(function(){\n",
       "                            \n",
       "var gd = document.getElementById('9f1de518-7cc9-418a-bc4e-49e7a771c873');\n",
       "var x = new MutationObserver(function (mutations, observer) {{\n",
       "        var display = window.getComputedStyle(gd).display;\n",
       "        if (!display || display === 'none') {{\n",
       "            console.log([gd, 'removed!']);\n",
       "            Plotly.purge(gd);\n",
       "            observer.disconnect();\n",
       "        }}\n",
       "}});\n",
       "\n",
       "// Listen for the removal of the full notebook cells\n",
       "var notebookContainer = gd.closest('#notebook-container');\n",
       "if (notebookContainer) {{\n",
       "    x.observe(notebookContainer, {childList: true});\n",
       "}}\n",
       "\n",
       "// Listen for the clearing of the current output cell\n",
       "var outputEl = gd.closest('.output');\n",
       "if (outputEl) {{\n",
       "    x.observe(outputEl, {childList: true});\n",
       "}}\n",
       "\n",
       "                        })                };                            </script>        </div>\n",
       "</body>\n",
       "</html>"
      ]
     },
     "metadata": {},
     "output_type": "display_data"
    },
    {
     "data": {
      "text/html": [
       "<html>\n",
       "<head><meta charset=\"utf-8\" /></head>\n",
       "<body>\n",
       "    <div>            <script src=\"https://cdnjs.cloudflare.com/ajax/libs/mathjax/2.7.5/MathJax.js?config=TeX-AMS-MML_SVG\"></script><script type=\"text/javascript\">if (window.MathJax) {MathJax.Hub.Config({SVG: {font: \"STIX-Web\"}});}</script>                <script type=\"text/javascript\">window.PlotlyConfig = {MathJaxConfig: 'local'};</script>\n",
       "        <script src=\"https://cdn.plot.ly/plotly-2.8.3.min.js\"></script>                <div id=\"1670a0c3-7325-4706-91c3-362f8c94d52c\" class=\"plotly-graph-div\" style=\"height:500px; width:700px;\"></div>            <script type=\"text/javascript\">                                    window.PLOTLYENV=window.PLOTLYENV || {};                                    if (document.getElementById(\"1670a0c3-7325-4706-91c3-362f8c94d52c\")) {                    Plotly.newPlot(                        \"1670a0c3-7325-4706-91c3-362f8c94d52c\",                        [{\"name\":\"Train accuracy\",\"y\":[0.5612244606018066,0.6292517185211182,0.6575963497161865,0.6451247334480286,0.6757369637489319,0.6734693646430969,0.6859410405158997,0.6723356246948242,0.7131519317626953,0.774376392364502,0.738095223903656,0.7755101919174194,0.7823129296302795,0.8526077270507812,0.8548752665519714,0.8775510191917419,0.8072562217712402,0.8594104051589966,0.9149659872055054,0.8922902345657349,0.9081632494926453,0.9365079402923584,0.9716553092002869,0.8786848187446594,0.9263038635253906,0.9671201705932617,0.978458046913147,0.9478458166122437,0.9603174328804016,0.9727891087532043,0.9750567078590393,0.956916093826294,0.9410430788993835,0.9693877696990967,0.9829931855201721,0.9920634627342224,0.9988662004470825,0.997732400894165,0.9965986609458923,0.9988662004470825,0.976190447807312,0.976190447807312,0.9875283241271973,0.9954648613929749,0.9727891087532043,0.976190447807312,0.9251700639724731,0.976190447807312,0.9909297227859497,0.997732400894165,0.9965986609458923,0.997732400894165,0.9965986609458923,0.997732400894165,0.9931972622871399,0.9603174328804016,0.978458046913147,0.9909297227859497,0.9705215692520142,0.9897959232330322,0.9988662004470825,0.997732400894165,0.9897959232330322,0.9920634627342224,0.9875283241271973,0.9988662004470825,0.9988662004470825,0.9988662004470825,0.9988662004470825,0.997732400894165,0.9943310618400574,0.9875283241271973,0.9943310618400574,0.976190447807312,0.978458046913147,0.9954648613929749,0.9965986609458923,0.9988662004470825,0.997732400894165,0.997732400894165,0.9988662004470825,0.9931972622871399,0.9852607846260071,0.997732400894165,0.997732400894165,0.997732400894165,0.9988662004470825,0.9988662004470825,0.997732400894165,0.997732400894165,0.9920634627342224,0.9319728016853333,0.9897959232330322,0.9943310618400574,0.997732400894165,0.997732400894165,0.9988662004470825,0.9988662004470825,0.997732400894165,0.9988662004470825,0.9965986609458923,0.9739229083061218,0.9875283241271973,0.9965986609458923,0.9988662004470825,0.9988662004470825,0.9988662004470825,0.9954648613929749,0.9954648613929749,0.9988662004470825,0.997732400894165,0.9954648613929749,0.9897959232330322,0.9943310618400574,0.997732400894165,0.997732400894165,0.9988662004470825,0.9954648613929749,0.9965986609458923,0.9965986609458923,0.9988662004470825,0.9954648613929749,0.9727891087532043,0.9920634627342224,0.997732400894165,0.9988662004470825,0.997732400894165,0.9988662004470825,0.9988662004470825,0.9965986609458923,0.9988662004470825,0.9988662004470825,0.9988662004470825,0.9988662004470825,0.9988662004470825,0.9988662004470825,0.9988662004470825,0.9988662004470825,0.9988662004470825,0.9988662004470825,0.9988662004470825,0.9988662004470825,0.9988662004470825,0.9988662004470825,0.9863945841789246,0.9920634627342224,0.9943310618400574,0.997732400894165,0.9965986609458923,0.997732400894165,0.9965986609458923,0.9988662004470825,0.9988662004470825,0.9988662004470825,0.9988662004470825,0.9988662004470825,0.9897959232330322,0.9931972622871399,0.9965986609458923,1.0,0.9988662004470825,0.9988662004470825,0.9988662004470825,0.9988662004470825,0.9988662004470825,0.9988662004470825,0.9988662004470825,0.9988662004470825,0.997732400894165,0.997732400894165,0.9988662004470825,0.9988662004470825,0.9988662004470825,0.9988662004470825,0.9988662004470825,1.0,0.9988662004470825,0.9988662004470825,0.9988662004470825,0.997732400894165,0.9988662004470825,0.9988662004470825,0.9988662004470825,0.9988662004470825,0.997732400894165,0.9988662004470825,0.9988662004470825,0.9988662004470825,1.0,0.9988662004470825,0.9988662004470825,0.997732400894165,0.9988662004470825,0.9988662004470825,0.9988662004470825,0.9988662004470825,0.9988662004470825,0.9988662004470825,0.9988662004470825,0.9988662004470825,0.9954648613929749,0.9988662004470825,0.997732400894165,0.9954648613929749,0.9988662004470825,0.9988662004470825,0.997732400894165,0.997732400894165,0.9988662004470825,0.997732400894165,0.9988662004470825,0.997732400894165,0.9988662004470825,0.9988662004470825,0.9988662004470825,0.9988662004470825,0.9988662004470825,0.997732400894165,0.9988662004470825,0.9988662004470825,0.997732400894165,0.997732400894165,0.9965986609458923,1.0,1.0,0.997732400894165,0.9988662004470825,0.9965986609458923,0.9988662004470825,0.9988662004470825,0.9988662004470825,0.9988662004470825,0.9988662004470825,0.997732400894165,0.997732400894165,0.9988662004470825,0.9988662004470825,0.9988662004470825,0.9988662004470825],\"type\":\"scatter\"},{\"name\":\"Validation accuracy\",\"y\":[0.5067873597145081,0.5067873597145081,0.5067873597145081,0.5067873597145081,0.5067873597145081,0.5067873597145081,0.5067873597145081,0.5067873597145081,0.5067873597145081,0.5067873597145081,0.5067873597145081,0.5067873597145081,0.5113122463226318,0.5022624731063843,0.5158371329307556,0.5791855454444885,0.610859751701355,0.5384615659713745,0.5746606588363647,0.6244344115257263,0.6561086177825928,0.6696832776069641,0.6153846383094788,0.6063348650932312,0.6153846383094788,0.6696832776069641,0.5656108856201172,0.5656108856201172,0.6199095249176025,0.5520362257957458,0.6380090713500977,0.5429864525794983,0.5384615659713745,0.6018099784851074,0.6470588445663452,0.6380090713500977,0.6606335043907166,0.6425339579582214,0.6470588445663452,0.6425339579582214,0.6289592981338501,0.6425339579582214,0.6425339579582214,0.6244344115257263,0.6334841847419739,0.5113122463226318,0.6244344115257263,0.6244344115257263,0.6153846383094788,0.6425339579582214,0.610859751701355,0.6380090713500977,0.6334841847419739,0.6425339579582214,0.6199095249176025,0.5927602052688599,0.6606335043907166,0.6244344115257263,0.6425339579582214,0.6561086177825928,0.6470588445663452,0.6470588445663452,0.5656108856201172,0.5927602052688599,0.5837104320526123,0.6606335043907166,0.6742081642150879,0.6742081642150879,0.6787330508232117,0.6696832776069641,0.6380090713500977,0.6606335043907166,0.6742081642150879,0.5972850918769836,0.6199095249176025,0.6244344115257263,0.610859751701355,0.6380090713500977,0.6470588445663452,0.6470588445663452,0.6289592981338501,0.5248869061470032,0.6380090713500977,0.6244344115257263,0.6380090713500977,0.6244344115257263,0.6244344115257263,0.6289592981338501,0.6244344115257263,0.6199095249176025,0.6244344115257263,0.5791855454444885,0.6153846383094788,0.6018099784851074,0.651583731174469,0.6470588445663452,0.651583731174469,0.6425339579582214,0.6289592981338501,0.6334841847419739,0.5972850918769836,0.6199095249176025,0.6244344115257263,0.6380090713500977,0.6380090713500977,0.6289592981338501,0.6470588445663452,0.6334841847419739,0.610859751701355,0.6289592981338501,0.6244344115257263,0.6018099784851074,0.5791855454444885,0.6289592981338501,0.6470588445663452,0.6334841847419739,0.6425339579582214,0.6470588445663452,0.6696832776069641,0.651583731174469,0.6380090713500977,0.6561086177825928,0.5520362257957458,0.610859751701355,0.6334841847419739,0.6651583909988403,0.6606335043907166,0.6606335043907166,0.6470588445663452,0.651583731174469,0.651583731174469,0.6606335043907166,0.6561086177825928,0.6561086177825928,0.6561086177825928,0.6561086177825928,0.6606335043907166,0.651583731174469,0.6561086177825928,0.6606335043907166,0.6380090713500977,0.6425339579582214,0.651583731174469,0.6470588445663452,0.6244344115257263,0.6470588445663452,0.6425339579582214,0.6380090713500977,0.6244344115257263,0.6153846383094788,0.6244344115257263,0.6199095249176025,0.6199095249176025,0.6244344115257263,0.6334841847419739,0.6289592981338501,0.6199095249176025,0.6199095249176025,0.6063348650932312,0.610859751701355,0.6199095249176025,0.6199095249176025,0.6244344115257263,0.6199095249176025,0.6244344115257263,0.6199095249176025,0.6380090713500977,0.6289592981338501,0.6289592981338501,0.6380090713500977,0.6561086177825928,0.651583731174469,0.651583731174469,0.651583731174469,0.6425339579582214,0.6425339579582214,0.6561086177825928,0.651583731174469,0.6380090713500977,0.6334841847419739,0.6380090713500977,0.6334841847419739,0.6425339579582214,0.6380090713500977,0.6153846383094788,0.610859751701355,0.6063348650932312,0.610859751701355,0.610859751701355,0.6063348650932312,0.6063348650932312,0.610859751701355,0.610859751701355,0.610859751701355,0.610859751701355,0.610859751701355,0.6199095249176025,0.6244344115257263,0.6334841847419739,0.6289592981338501,0.651583731174469,0.6380090713500977,0.6606335043907166,0.6425339579582214,0.6606335043907166,0.6380090713500977,0.6380090713500977,0.6425339579582214,0.6425339579582214,0.6380090713500977,0.6380090713500977,0.6425339579582214,0.6425339579582214,0.6470588445663452,0.6425339579582214,0.6425339579582214,0.6425339579582214,0.6334841847419739,0.6289592981338501,0.6425339579582214,0.6334841847419739,0.6289592981338501,0.5972850918769836,0.610859751701355,0.6063348650932312,0.5972850918769836,0.5972850918769836,0.6289592981338501,0.6018099784851074,0.610859751701355,0.6063348650932312,0.6063348650932312,0.5972850918769836,0.5927602052688599,0.5927602052688599,0.5972850918769836,0.5927602052688599,0.5927602052688599,0.5927602052688599],\"type\":\"scatter\"}],                        {\"template\":{\"data\":{\"bar\":[{\"error_x\":{\"color\":\"#2a3f5f\"},\"error_y\":{\"color\":\"#2a3f5f\"},\"marker\":{\"line\":{\"color\":\"#E5ECF6\",\"width\":0.5},\"pattern\":{\"fillmode\":\"overlay\",\"size\":10,\"solidity\":0.2}},\"type\":\"bar\"}],\"barpolar\":[{\"marker\":{\"line\":{\"color\":\"#E5ECF6\",\"width\":0.5},\"pattern\":{\"fillmode\":\"overlay\",\"size\":10,\"solidity\":0.2}},\"type\":\"barpolar\"}],\"carpet\":[{\"aaxis\":{\"endlinecolor\":\"#2a3f5f\",\"gridcolor\":\"white\",\"linecolor\":\"white\",\"minorgridcolor\":\"white\",\"startlinecolor\":\"#2a3f5f\"},\"baxis\":{\"endlinecolor\":\"#2a3f5f\",\"gridcolor\":\"white\",\"linecolor\":\"white\",\"minorgridcolor\":\"white\",\"startlinecolor\":\"#2a3f5f\"},\"type\":\"carpet\"}],\"choropleth\":[{\"colorbar\":{\"outlinewidth\":0,\"ticks\":\"\"},\"type\":\"choropleth\"}],\"contour\":[{\"colorbar\":{\"outlinewidth\":0,\"ticks\":\"\"},\"colorscale\":[[0.0,\"#0d0887\"],[0.1111111111111111,\"#46039f\"],[0.2222222222222222,\"#7201a8\"],[0.3333333333333333,\"#9c179e\"],[0.4444444444444444,\"#bd3786\"],[0.5555555555555556,\"#d8576b\"],[0.6666666666666666,\"#ed7953\"],[0.7777777777777778,\"#fb9f3a\"],[0.8888888888888888,\"#fdca26\"],[1.0,\"#f0f921\"]],\"type\":\"contour\"}],\"contourcarpet\":[{\"colorbar\":{\"outlinewidth\":0,\"ticks\":\"\"},\"type\":\"contourcarpet\"}],\"heatmap\":[{\"colorbar\":{\"outlinewidth\":0,\"ticks\":\"\"},\"colorscale\":[[0.0,\"#0d0887\"],[0.1111111111111111,\"#46039f\"],[0.2222222222222222,\"#7201a8\"],[0.3333333333333333,\"#9c179e\"],[0.4444444444444444,\"#bd3786\"],[0.5555555555555556,\"#d8576b\"],[0.6666666666666666,\"#ed7953\"],[0.7777777777777778,\"#fb9f3a\"],[0.8888888888888888,\"#fdca26\"],[1.0,\"#f0f921\"]],\"type\":\"heatmap\"}],\"heatmapgl\":[{\"colorbar\":{\"outlinewidth\":0,\"ticks\":\"\"},\"colorscale\":[[0.0,\"#0d0887\"],[0.1111111111111111,\"#46039f\"],[0.2222222222222222,\"#7201a8\"],[0.3333333333333333,\"#9c179e\"],[0.4444444444444444,\"#bd3786\"],[0.5555555555555556,\"#d8576b\"],[0.6666666666666666,\"#ed7953\"],[0.7777777777777778,\"#fb9f3a\"],[0.8888888888888888,\"#fdca26\"],[1.0,\"#f0f921\"]],\"type\":\"heatmapgl\"}],\"histogram\":[{\"marker\":{\"pattern\":{\"fillmode\":\"overlay\",\"size\":10,\"solidity\":0.2}},\"type\":\"histogram\"}],\"histogram2d\":[{\"colorbar\":{\"outlinewidth\":0,\"ticks\":\"\"},\"colorscale\":[[0.0,\"#0d0887\"],[0.1111111111111111,\"#46039f\"],[0.2222222222222222,\"#7201a8\"],[0.3333333333333333,\"#9c179e\"],[0.4444444444444444,\"#bd3786\"],[0.5555555555555556,\"#d8576b\"],[0.6666666666666666,\"#ed7953\"],[0.7777777777777778,\"#fb9f3a\"],[0.8888888888888888,\"#fdca26\"],[1.0,\"#f0f921\"]],\"type\":\"histogram2d\"}],\"histogram2dcontour\":[{\"colorbar\":{\"outlinewidth\":0,\"ticks\":\"\"},\"colorscale\":[[0.0,\"#0d0887\"],[0.1111111111111111,\"#46039f\"],[0.2222222222222222,\"#7201a8\"],[0.3333333333333333,\"#9c179e\"],[0.4444444444444444,\"#bd3786\"],[0.5555555555555556,\"#d8576b\"],[0.6666666666666666,\"#ed7953\"],[0.7777777777777778,\"#fb9f3a\"],[0.8888888888888888,\"#fdca26\"],[1.0,\"#f0f921\"]],\"type\":\"histogram2dcontour\"}],\"mesh3d\":[{\"colorbar\":{\"outlinewidth\":0,\"ticks\":\"\"},\"type\":\"mesh3d\"}],\"parcoords\":[{\"line\":{\"colorbar\":{\"outlinewidth\":0,\"ticks\":\"\"}},\"type\":\"parcoords\"}],\"pie\":[{\"automargin\":true,\"type\":\"pie\"}],\"scatter\":[{\"marker\":{\"colorbar\":{\"outlinewidth\":0,\"ticks\":\"\"}},\"type\":\"scatter\"}],\"scatter3d\":[{\"line\":{\"colorbar\":{\"outlinewidth\":0,\"ticks\":\"\"}},\"marker\":{\"colorbar\":{\"outlinewidth\":0,\"ticks\":\"\"}},\"type\":\"scatter3d\"}],\"scattercarpet\":[{\"marker\":{\"colorbar\":{\"outlinewidth\":0,\"ticks\":\"\"}},\"type\":\"scattercarpet\"}],\"scattergeo\":[{\"marker\":{\"colorbar\":{\"outlinewidth\":0,\"ticks\":\"\"}},\"type\":\"scattergeo\"}],\"scattergl\":[{\"marker\":{\"colorbar\":{\"outlinewidth\":0,\"ticks\":\"\"}},\"type\":\"scattergl\"}],\"scattermapbox\":[{\"marker\":{\"colorbar\":{\"outlinewidth\":0,\"ticks\":\"\"}},\"type\":\"scattermapbox\"}],\"scatterpolar\":[{\"marker\":{\"colorbar\":{\"outlinewidth\":0,\"ticks\":\"\"}},\"type\":\"scatterpolar\"}],\"scatterpolargl\":[{\"marker\":{\"colorbar\":{\"outlinewidth\":0,\"ticks\":\"\"}},\"type\":\"scatterpolargl\"}],\"scatterternary\":[{\"marker\":{\"colorbar\":{\"outlinewidth\":0,\"ticks\":\"\"}},\"type\":\"scatterternary\"}],\"surface\":[{\"colorbar\":{\"outlinewidth\":0,\"ticks\":\"\"},\"colorscale\":[[0.0,\"#0d0887\"],[0.1111111111111111,\"#46039f\"],[0.2222222222222222,\"#7201a8\"],[0.3333333333333333,\"#9c179e\"],[0.4444444444444444,\"#bd3786\"],[0.5555555555555556,\"#d8576b\"],[0.6666666666666666,\"#ed7953\"],[0.7777777777777778,\"#fb9f3a\"],[0.8888888888888888,\"#fdca26\"],[1.0,\"#f0f921\"]],\"type\":\"surface\"}],\"table\":[{\"cells\":{\"fill\":{\"color\":\"#EBF0F8\"},\"line\":{\"color\":\"white\"}},\"header\":{\"fill\":{\"color\":\"#C8D4E3\"},\"line\":{\"color\":\"white\"}},\"type\":\"table\"}]},\"layout\":{\"annotationdefaults\":{\"arrowcolor\":\"#2a3f5f\",\"arrowhead\":0,\"arrowwidth\":1},\"autotypenumbers\":\"strict\",\"coloraxis\":{\"colorbar\":{\"outlinewidth\":0,\"ticks\":\"\"}},\"colorscale\":{\"diverging\":[[0,\"#8e0152\"],[0.1,\"#c51b7d\"],[0.2,\"#de77ae\"],[0.3,\"#f1b6da\"],[0.4,\"#fde0ef\"],[0.5,\"#f7f7f7\"],[0.6,\"#e6f5d0\"],[0.7,\"#b8e186\"],[0.8,\"#7fbc41\"],[0.9,\"#4d9221\"],[1,\"#276419\"]],\"sequential\":[[0.0,\"#0d0887\"],[0.1111111111111111,\"#46039f\"],[0.2222222222222222,\"#7201a8\"],[0.3333333333333333,\"#9c179e\"],[0.4444444444444444,\"#bd3786\"],[0.5555555555555556,\"#d8576b\"],[0.6666666666666666,\"#ed7953\"],[0.7777777777777778,\"#fb9f3a\"],[0.8888888888888888,\"#fdca26\"],[1.0,\"#f0f921\"]],\"sequentialminus\":[[0.0,\"#0d0887\"],[0.1111111111111111,\"#46039f\"],[0.2222222222222222,\"#7201a8\"],[0.3333333333333333,\"#9c179e\"],[0.4444444444444444,\"#bd3786\"],[0.5555555555555556,\"#d8576b\"],[0.6666666666666666,\"#ed7953\"],[0.7777777777777778,\"#fb9f3a\"],[0.8888888888888888,\"#fdca26\"],[1.0,\"#f0f921\"]]},\"colorway\":[\"#636efa\",\"#EF553B\",\"#00cc96\",\"#ab63fa\",\"#FFA15A\",\"#19d3f3\",\"#FF6692\",\"#B6E880\",\"#FF97FF\",\"#FECB52\"],\"font\":{\"color\":\"#2a3f5f\"},\"geo\":{\"bgcolor\":\"white\",\"lakecolor\":\"white\",\"landcolor\":\"#E5ECF6\",\"showlakes\":true,\"showland\":true,\"subunitcolor\":\"white\"},\"hoverlabel\":{\"align\":\"left\"},\"hovermode\":\"closest\",\"mapbox\":{\"style\":\"light\"},\"paper_bgcolor\":\"white\",\"plot_bgcolor\":\"#E5ECF6\",\"polar\":{\"angularaxis\":{\"gridcolor\":\"white\",\"linecolor\":\"white\",\"ticks\":\"\"},\"bgcolor\":\"#E5ECF6\",\"radialaxis\":{\"gridcolor\":\"white\",\"linecolor\":\"white\",\"ticks\":\"\"}},\"scene\":{\"xaxis\":{\"backgroundcolor\":\"#E5ECF6\",\"gridcolor\":\"white\",\"gridwidth\":2,\"linecolor\":\"white\",\"showbackground\":true,\"ticks\":\"\",\"zerolinecolor\":\"white\"},\"yaxis\":{\"backgroundcolor\":\"#E5ECF6\",\"gridcolor\":\"white\",\"gridwidth\":2,\"linecolor\":\"white\",\"showbackground\":true,\"ticks\":\"\",\"zerolinecolor\":\"white\"},\"zaxis\":{\"backgroundcolor\":\"#E5ECF6\",\"gridcolor\":\"white\",\"gridwidth\":2,\"linecolor\":\"white\",\"showbackground\":true,\"ticks\":\"\",\"zerolinecolor\":\"white\"}},\"shapedefaults\":{\"line\":{\"color\":\"#2a3f5f\"}},\"ternary\":{\"aaxis\":{\"gridcolor\":\"white\",\"linecolor\":\"white\",\"ticks\":\"\"},\"baxis\":{\"gridcolor\":\"white\",\"linecolor\":\"white\",\"ticks\":\"\"},\"bgcolor\":\"#E5ECF6\",\"caxis\":{\"gridcolor\":\"white\",\"linecolor\":\"white\",\"ticks\":\"\"}},\"title\":{\"x\":0.05},\"xaxis\":{\"automargin\":true,\"gridcolor\":\"white\",\"linecolor\":\"white\",\"ticks\":\"\",\"title\":{\"standoff\":15},\"zerolinecolor\":\"white\",\"zerolinewidth\":2},\"yaxis\":{\"automargin\":true,\"gridcolor\":\"white\",\"linecolor\":\"white\",\"ticks\":\"\",\"title\":{\"standoff\":15},\"zerolinecolor\":\"white\",\"zerolinewidth\":2}}},\"height\":500,\"width\":700,\"title\":{\"text\":\"Accuracy/Precision/Recall CNN\"},\"xaxis\":{\"title\":{\"text\":\"Epoch\"}},\"yaxis\":{\"title\":{\"text\":\"Accuracy\"}}},                        {\"responsive\": true}                    ).then(function(){\n",
       "                            \n",
       "var gd = document.getElementById('1670a0c3-7325-4706-91c3-362f8c94d52c');\n",
       "var x = new MutationObserver(function (mutations, observer) {{\n",
       "        var display = window.getComputedStyle(gd).display;\n",
       "        if (!display || display === 'none') {{\n",
       "            console.log([gd, 'removed!']);\n",
       "            Plotly.purge(gd);\n",
       "            observer.disconnect();\n",
       "        }}\n",
       "}});\n",
       "\n",
       "// Listen for the removal of the full notebook cells\n",
       "var notebookContainer = gd.closest('#notebook-container');\n",
       "if (notebookContainer) {{\n",
       "    x.observe(notebookContainer, {childList: true});\n",
       "}}\n",
       "\n",
       "// Listen for the clearing of the current output cell\n",
       "var outputEl = gd.closest('.output');\n",
       "if (outputEl) {{\n",
       "    x.observe(outputEl, {childList: true});\n",
       "}}\n",
       "\n",
       "                        })                };                            </script>        </div>\n",
       "</body>\n",
       "</html>"
      ]
     },
     "metadata": {},
     "output_type": "display_data"
    },
    {
     "data": {
      "application/vnd.google.colaboratory.intrinsic+json": {
       "type": "string"
      },
      "text/plain": [
       "'Classification/OUTPUTS/GRAPHS/ResNet50_accuracy.html'"
      ]
     },
     "execution_count": 28,
     "metadata": {},
     "output_type": "execute_result"
    },
    {
     "data": {
      "text/plain": [
       "<Figure size 432x288 with 0 Axes>"
      ]
     },
     "metadata": {},
     "output_type": "display_data"
    }
   ],
   "source": [
    "# stampo i grafici relativi al train del modello\n",
    "\n",
    "# LOSSES\n",
    "plt.clf()\n",
    "fig = go.Figure()\n",
    "fig.add_trace(go.Scatter(\n",
    "                    y=history.history['loss'],\n",
    "                    name='Train loss'))\n",
    "fig.add_trace(go.Scatter(\n",
    "                    y=history.history['val_loss'],\n",
    "                    name='Validation loss'))\n",
    "fig.update_layout(height=500, \n",
    "                  width=700,\n",
    "                  title='Loss CNN',\n",
    "                  xaxis_title='Epoch',\n",
    "                  yaxis_title='Loss')\n",
    "fig.show()\n",
    "plotly_plot(fig, filename=str(Path(graphPath / Path(\"ResNet50_loss.html\"))), auto_open=False)\n",
    "\n",
    "# ACCURACY\n",
    "fig = go.Figure()\n",
    "fig.add_trace(go.Scatter(\n",
    "                    y=history.history['accuracy'],\n",
    "                    name='Train accuracy'))\n",
    "fig.add_trace(go.Scatter(\n",
    "                    y=history.history['val_accuracy'],\n",
    "                    name='Validation accuracy'))\n",
    "\n",
    "fig.update_layout(height=500, \n",
    "                  width=700,\n",
    "                  title='Accuracy/Precision/Recall CNN',\n",
    "                  xaxis_title='Epoch',\n",
    "                  yaxis_title='Accuracy')\n",
    "fig.show()\n",
    "plotly_plot(fig, filename=str(Path(graphPath / Path(\"ResNet50_accuracy.html\"))), auto_open=False)"
   ]
  },
  {
   "cell_type": "code",
   "execution_count": null,
   "metadata": {
    "id": "NtPRDx0eQ-Gk"
   },
   "outputs": [],
   "source": [
    "# calcolo delle metriche di valutazione del modello e fornisco i risultati\n",
    "\n",
    "bestPt = checkpointPath / Path('ResNet50_model')\n",
    "model = tf.keras.models.load_model(bestPt)\n",
    "\n",
    "\n",
    "evaluation = model.evaluate(x = X_valIMG, y = Y_val)\n",
    "prediction = model.predict(X_valIMG)\n",
    "\n",
    "ypreds = np.argmax(prediction, axis=1)\n",
    "yground = np.argmax(Y_val.to_numpy(), axis=1)\n",
    "\n",
    "score = accuracy_score(yground, ypreds)\n",
    "print('accuracy: ', score)\n",
    "\n",
    "loss = log_loss(yground, ypreds)\n",
    "print('log_loss: ', loss)\n",
    "\n",
    "Hloss = hinge_loss(yground, ypreds)\n",
    "print('hinge_loss: ', Hloss)\n",
    "\n",
    "precision = precision_score(yground, ypreds)\n",
    "print('precision: ', precision)\n",
    "\n",
    "recall = recall_score(yground, ypreds)\n",
    "print('recall: ', recall)\n",
    "\n",
    "cmatrix = confusion_matrix(yground, ypreds)\n",
    "print(cmatrix)\n",
    "\n",
    "\n",
    "\n",
    "\n",
    "\n",
    "evaluation = dict(zip(model.metrics_names,evaluation))\n",
    "print(evaluation)\n",
    "with open(txtOutEvalpath / Path('ResNet50_model.txt'), 'w') as f:\n",
    "    f.write('CNN'+'\\n\\n')\n",
    "    for k, v in evaluation.items():\n",
    "        f.write(str(k) + ' >>> '+ str(v) + '\\n\\n')\n",
    "    f.write('CNN'+'\\n\\n')\n",
    "    f.write('SKLEARN METRICS:')\n",
    "    f.write(str('Loss') + ' >>> '+ str(loss) + '\\n\\n')\n",
    "    f.write(str('Hinge Loss') + ' >>> '+ str(Hloss) + '\\n\\n')\n",
    "    f.write(str('Accuracy') + ' >>> '+ str(score) + '\\n\\n')\n",
    "    f.write(str('Precision') + ' >>> '+ str(precision) + '\\n\\n')\n",
    "    f.write(str('Recall') + ' >>> '+ str(recall) + '\\n\\n')\n",
    "    f.write(str('Confusion Matrix') + ' >>> '+ str(cmatrix) + '\\n\\n')"
   ]
  },
  {
   "cell_type": "code",
   "execution_count": null,
   "metadata": {
    "id": "IhOqfSQAVxY_"
   },
   "outputs": [],
   "source": [
    "# Salva il modello in formato *.h5\n",
    "model.save(\"Classification/OUTPUTS/modello.h5\")"
   ]
  }
 ],
 "metadata": {
  "accelerator": "GPU",
  "colab": {
   "collapsed_sections": [
    "g7OY6AEpQ-Ga",
    "Xy5e1j3FQ-Gc",
    "e-aNq1RyQ-Gc",
    "1zZEBm6mQ-Ge"
   ],
   "provenance": []
  },
  "kernelspec": {
   "display_name": "Python 3.10 (tensorflow)",
   "language": "python",
   "name": "tensorflow"
  },
  "language_info": {
   "codemirror_mode": {
    "name": "ipython",
    "version": 3
   },
   "file_extension": ".py",
   "mimetype": "text/x-python",
   "name": "python",
   "nbconvert_exporter": "python",
   "pygments_lexer": "ipython3",
   "version": "3.10.9"
  },
  "vscode": {
   "interpreter": {
    "hash": "8acea683dfa1ff2613312f10985a069d0785967c839d3d347b7388426a15b8af"
   }
  }
 },
 "nbformat": 4,
 "nbformat_minor": 1
}
